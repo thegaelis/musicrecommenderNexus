{
  "cells": [
    {
      "cell_type": "code",
      "execution_count": null,
      "metadata": {
        "colab": {
          "base_uri": "https://localhost:8080/"
        },
        "id": "riAUfFYtRAxN",
        "outputId": "6a731ca6-077d-485e-9730-901af8e8e4b3"
      },
      "outputs": [],
      "source": [
        "#install preresquites\n",
        "!pip install spotipy\n",
        "!pip install matplotlib\n",
        "!pip install numpy\n",
        "!pip install joblib\n",
        "!pip install sklearn\n",
        "!pip install pandas"
      ]
    },
    {
      "cell_type": "code",
      "execution_count": null,
      "metadata": {
        "id": "hChemm3bfHBL"
      },
      "outputs": [],
      "source": [
        "# Install packages and dependencies\n",
        "import pandas as pd\n",
        "import matplotlib.pyplot as plt\n",
        "import numpy as np\n",
        "import spotipy\n",
        "import json\n",
        "from spotipy.oauth2 import SpotifyOAuth\n",
        "from sklearn.preprocessing import MinMaxScaler\n",
        "from joblib import Parallel, delayed\n",
        "from sklearn.metrics.pairwise import cosine_similarity"
      ]
    },
    {
      "cell_type": "code",
      "execution_count": null,
      "metadata": {
        "id": "8MF2YPWYVc9l"
      },
      "outputs": [],
      "source": [
        "df = pd.read_csv('./Dataset/dataset.csv')"
      ]
    },
    {
      "cell_type": "code",
      "execution_count": null,
      "metadata": {
        "colab": {
          "base_uri": "https://localhost:8080/",
          "height": 738
        },
        "id": "xmeqBLH5VvJS",
        "outputId": "0cf07ae1-9515-4bf7-dc25-724e7e179f2a"
      },
      "outputs": [],
      "source": [
        "pd.set_option('display.max_columns', None)\n"
      ]
    },
    {
      "cell_type": "code",
      "execution_count": null,
      "metadata": {
        "colab": {
          "base_uri": "https://localhost:8080/",
          "height": 704
        },
        "id": "sac6wV9qw9hc",
        "outputId": "e6aaa660-1309-4522-b29f-fe70e0a12b39"
      },
      "outputs": [],
      "source": [
        "# Create Feature Set, drop unnecessary columns\n",
        "feat_vec = df.drop(columns=['Unnamed: 0','artists', 'track_name', 'key', 'duration_ms', 'time_signature'])\n",
        "pd.set_option('display.max_columns', None)\n"
      ]
    },
    {
      "cell_type": "markdown",
      "metadata": {
        "id": "rw0fSf6Zn5AN"
      },
      "source": [
        "\n",
        "#Using Multi-Hot Encoding to Represent Genres\n",
        "\n",
        "In order to create an item-feature matrix to use the cosine similarity algorithm, all column types must be of numerical value. So, I would need to convert genre string values into integer values. Multi-hot-encoding is used to represent categorical data as binary vectors (0 and 1)."
      ]
    },
    {
      "cell_type": "code",
      "execution_count": null,
      "metadata": {
        "colab": {
          "base_uri": "https://localhost:8080/"
        },
        "id": "3s7n0CjlUL4i",
        "outputId": "e4d41c88-96d8-4d2a-a96e-39d5cd752352"
      },
      "outputs": [],
      "source": [
        "#Create genre columns, there's so much, so lets only keep the most popular ones\n",
        "genre_list = feat_vec['track_genre'].unique().tolist()\n",
        "# genre_list\n",
        "len(genre_list)\n"
      ]
    },
    {
      "cell_type": "code",
      "execution_count": null,
      "metadata": {
        "colab": {
          "base_uri": "https://localhost:8080/"
        },
        "id": "G_7-qSIPYB2U",
        "outputId": "19668164-ab61-4ed9-9e6f-289e10c49df0"
      },
      "outputs": [],
      "source": [
        "genres_to_remove = ['afrobeat','black-metal','breakbeat','cantopop','chicago-house','comedy','death-metal','deep-house','detroit-techno','drum-and-bass','dubstep','electronic','forro','french','garage','german','grindcore','hard-rock','hardcore','hardstyle','heavy-metal','indian','metalcore','industrial','minimal-techno','new-age','pop-film','power-pop','progressive-house','psych-rock','punk-rock','sertanejo','show-tunes','ska','swedish','trance','trip-hop']\n",
        "updated_genre_list = list(filter(lambda x: x not in genres_to_remove, genre_list))\n",
        "len(updated_genre_list)"
      ]
    },
    {
      "cell_type": "code",
      "execution_count": null,
      "metadata": {
        "colab": {
          "base_uri": "https://localhost:8080/",
          "height": 721
        },
        "id": "QPihlJ8HcneU",
        "outputId": "7ca212d6-f2d0-443f-b260-b676ce4a0f99"
      },
      "outputs": [],
      "source": [
        "# use one-hot-encoding to convert genre categories into binary matrix format\n",
        "# iterate over list of genres and then make value of 1 if genre matches\n",
        "for item in updated_genre_list:\n",
        "    feat_vec['genre_'+item] = feat_vec['track_genre'].apply(lambda genre: 1 if genre == item else 0)\n",
        "\n",
        "# drop genre column in feat_vec df\n",
        "feat_vec.drop('track_genre', axis=1, inplace=True)\n"
      ]
    },
    {
      "cell_type": "markdown",
      "metadata": {
        "id": "4gWssAVxn_5F"
      },
      "source": [
        "\n",
        "#Normalizing Feature Vectors\n",
        "\n",
        "All feature values should be on a scale from 0-1. This is to ensure that when running the cosine similarity algorithm, the similarity depends on the direction of the vector, not the dependent on the magnitude or scale of each vetor. Varying scales and magnitude will result in some features having more weighting than others.\n",
        "\n",
        "Popularity scale ranges from 1-100; Loudness scale ranges from -60-0, Tempo scale ranges from 0-250. These feature values must be scaled from 0-1 to get a better cosine simlarity score."
      ]
    },
    {
      "cell_type": "code",
      "execution_count": null,
      "metadata": {
        "colab": {
          "base_uri": "https://localhost:8080/",
          "height": 721
        },
        "id": "UI8KOmCEdtND",
        "outputId": "09a8812c-f79d-487f-d12f-5d9dc0aff9d2"
      },
      "outputs": [],
      "source": [
        "# popularity scale: 1-100, loudness scale: -60-0, tempo scale: 0-250, scale features from 0-1\n",
        "# add min and max values for each row to establish min and max values, then once scaling is done, remove min and max columns\n",
        "min_row = {'popularity': '0', 'loudness': '-60', 'tempo': '0'}\n",
        "max_row = {'popularity': '100', 'loudness': '0', 'tempo': '250'}\n",
        "\n",
        "min_row_df = pd.DataFrame([min_row])\n",
        "max_row_df = pd.DataFrame([max_row])\n",
        "\n",
        "feat_vec = pd.concat([feat_vec, min_row_df], ignore_index=True)\n",
        "feat_vec = pd.concat([feat_vec, max_row_df], ignore_index=True)\n",
        "\n",
        "# scale popularity, loudness, and tempo features to 0-1\n",
        "scale = ['popularity', 'loudness', 'tempo']\n",
        "scaler = MinMaxScaler()\n",
        "feat_vec[scale] = scaler.fit_transform(feat_vec[scale])\n",
        "\n",
        "# drop min and max values\n",
        "feat_vec = feat_vec.iloc[:-2]\n",
        "\n",
        "# print(updated_genre_list)"
      ]
    },
    {
      "cell_type": "code",
      "execution_count": null,
      "metadata": {},
      "outputs": [],
      "source": [
        "feat_vec = feat_vec.drop(columns = ['album_name', 'explicit'], axis = 1)"
      ]
    },
    {
      "cell_type": "markdown",
      "metadata": {
        "id": "J8_YCpkZ5018"
      },
      "source": [
        "#Create Item-Feature Matrix of User's Playlist\n",
        "\n",
        "The item-feature matrix of the database of Spotify songs is now ready to be used for the cosine similarity algorithm. Next, create an item-feature matrix of the user's playlist.\n",
        "\n",
        "First, read the URL of the user's playlist and gather the songs along with the associated audio features"
      ]
    },
    {
      "cell_type": "code",
      "execution_count": null,
      "metadata": {
        "id": "PFXkjMDnfb5Y"
      },
      "outputs": [],
      "source": [
        "#connect to spotify API\n",
        "# Set Spotify API credentials\n",
        "client_id = '69641ecc10424a6ca2da963ea415765d'\n",
        "client_secret = '8bc62f6a78bf4c99a0fcf9161efccd90'\n",
        "redirect_uri = 'http://localhost:3000'\n",
        "\n",
        "# Initialize the Spotipy client with authentication\n",
        "sp = spotipy.Spotify(auth_manager=SpotifyOAuth(client_id, client_secret, redirect_uri))\n",
        "\n",
        "# Retrieve playlist id from playlist link\n",
        "playlist_link = 'https://open.spotify.com/playlist/7Di0sHJc5U3TqBRtjxaBe2'\n",
        "playlist_id = playlist_link[34:56]\n"
      ]
    },
    {
      "cell_type": "code",
      "execution_count": null,
      "metadata": {
        "id": "hnytb7xqGuy5"
      },
      "outputs": [],
      "source": [
        "# Get the first 50 songs of the playlist\n",
        "playlist_tracks = sp.playlist_tracks(playlist_id, limit=50)"
      ]
    },
    {
      "cell_type": "code",
      "execution_count": null,
      "metadata": {
        "id": "orucywlbGsl9"
      },
      "outputs": [],
      "source": [
        "# Create lists to hold track titles and artist names\n",
        "titles, artists, uri = [], [], []\n",
        "\n",
        "# Iterate through the tracks and collect title, artist, and uri from each song\n",
        "for item in playlist_tracks['items']:\n",
        "    track = item['track']\n",
        "    titles.append(track['name'])\n",
        "    artist_names = ', '.join([artist['name'] for artist in track['artists']])\n",
        "    artists.append(artist_names)\n",
        "    uri.append(track['uri'])\n",
        "\n",
        "# Create a DataFrame\n",
        "data = {'Title': titles, 'Artist': artists, 'uri': uri}\n",
        "playlist = pd.DataFrame(data)\n",
        "\n",
        "# create new feature columns and assign null values\n",
        "new_feat = ['danceability', 'energy', 'loudness', 'mode', 'speechiness', 'acousticness', 'instrumentalness', 'liveness', 'valence', 'tempo']\n",
        "for item in new_feat:\n",
        "    playlist[item] = 0\n",
        "\n",
        "# fill null values with feature values\n",
        "for i in range(len(playlist)):\n",
        "    track_uri = playlist.iloc[i].uri\n",
        "    audio_features = sp.audio_features(track_uri)\n",
        "    json_string = json.dumps(audio_features[0])\n",
        "    dictionary = json.loads(json_string)\n",
        "\n",
        "    #update feature values\n",
        "    for feature in new_feat:\n",
        "        playlist.loc[i, feature] = dictionary[feature]\n",
        "\n"
      ]
    },
    {
      "cell_type": "code",
      "execution_count": null,
      "metadata": {
        "id": "quh5kuX2gfL0"
      },
      "outputs": [],
      "source": [
        "# Create a list of artist names from the playlist\n",
        "artist_names = playlist['Artist'].tolist()\n",
        "\n",
        "# Create an empty list to store genres\n",
        "genres = []\n",
        "\n",
        "import re\n",
        "\n",
        "def process_artist(artist_name, sp):\n",
        "    if not artist_name:\n",
        "        # Handle the case where the artist name is an empty string\n",
        "        return 'No Artist Found'\n",
        "\n",
        "    search_results = sp.search(q=artist_name, type='artist')\n",
        "    genres_info = []\n",
        "    if 'artists' in search_results and 'items' in search_results['artists']:\n",
        "        artists = search_results['artists']['items']\n",
        "        for artist in artists:\n",
        "            if artist['name'].lower() == artist_name.lower():\n",
        "                genres_info = artist.get('genres', [])\n",
        "                break\n",
        "    genre_string = ', '.join(genres_info) if genres_info else 'No Genre Found'\n",
        "    return genre_string\n",
        "\n",
        "# Fill genre for each song using Parallelization\n",
        "genres = Parallel(n_jobs=-1)(delayed(process_artist)(artist_name, sp) for artist_name in artist_names)\n",
        "\n",
        "playlist['Genre'] = genres\n"
      ]
    },
    {
      "cell_type": "code",
      "execution_count": null,
      "metadata": {},
      "outputs": [],
      "source": [
        "genre_count = {}\n",
        "\n",
        "# Substring search of genres, \n",
        "for genre in updated_genre_list:\n",
        "        # substring search for genres, assigns binary value in playlist item-feature matrix\n",
        "        playlist['genre_'+genre] = playlist['Genre'].str.contains(genre).astype(int)\n",
        "        # gather count of each genre in playlist\n",
        "        if playlist['genre_'+genre].sum() > 0:\n",
        "            genre_count[genre] = playlist['genre_'+genre].sum()\n",
        "            \n",
        "playlist = playlist.drop(columns=['Genre'])\n",
        "\n",
        "#get top 3 genres for recommendation \n",
        "top_3_genres = sorted(genre_count, key=genre_count.get, reverse=True)[:3]\n",
        "            "
      ]
    },
    {
      "cell_type": "code",
      "execution_count": null,
      "metadata": {},
      "outputs": [],
      "source": [
        "playlist['popularity'] = [0]*len(playlist)\n",
        "\n",
        "# iterate through each song to find popularity and release year\n",
        "for index, row in playlist.iterrows():\n",
        "    track_uri = row['uri']\n",
        "    # Get audio features of the track\n",
        "    track_info = sp.track(track_uri)\n",
        "\n",
        "    # Extract release date from track info\n",
        "    popularity = track_info['popularity']\n",
        "\n",
        "\n",
        "    playlist.loc[index,'popularity'] = int(popularity)\n"
      ]
    },
    {
      "cell_type": "code",
      "execution_count": null,
      "metadata": {},
      "outputs": [],
      "source": [
        "# apply scaling again this time to playlist dataframe to normalize feature values \n",
        "min_row = {'popularity': '0', 'loudness': '-60', 'tempo': '0'}\n",
        "max_row = {'popularity': '100', 'loudness': '0', 'tempo': '250'}\n",
        "\n",
        "min_row_df = pd.DataFrame([min_row])\n",
        "max_row_df = pd.DataFrame([max_row])\n",
        "\n",
        "playlist = pd.concat([playlist, min_row_df], ignore_index=True)\n",
        "playlist = pd.concat([playlist, max_row_df], ignore_index=True)\n",
        "\n",
        "# scale popularity, loudness, and tempo features to 0-1\n",
        "scale = ['popularity', 'loudness', 'tempo']\n",
        "scaler = MinMaxScaler()\n",
        "playlist[scale] = scaler.fit_transform(playlist[scale])\n",
        "\n",
        "# drop min and max values\n",
        "playlist = playlist.iloc[:-2]\n"
      ]
    },
    {
      "cell_type": "code",
      "execution_count": null,
      "metadata": {},
      "outputs": [],
      "source": [
        "# sort the dataframes in alphabetical order so columns correspond to each other for the cosine similarity algorithm\n",
        "playlist = playlist.sort_index(axis=1)\n",
        "feat_vec = feat_vec.sort_index(axis=1)\n",
        "\n",
        "# for cosine similarity, drop track_id column of the dataframe, this is not needed and numerical values are only needed\n",
        "feat_vec_cosine_sim = feat_vec.drop('track_id', axis=1)\n",
        "\n",
        "# drop the Artist, Title, and uri in the playlist dataframe as well since they are not numerical values  \n",
        "columns_dropped = ['Artist', 'Title', 'uri']\n",
        "playlist_cosine_sim = playlist.drop(columns_dropped, axis=1)"
      ]
    },
    {
      "cell_type": "code",
      "execution_count": null,
      "metadata": {},
      "outputs": [],
      "source": [
        "# Calculate column averages of the playlist dataframe\n",
        "column_averages = playlist_cosine_sim.mean()\n",
        "\n",
        "# Create a new DataFrame for the averages and totals\n",
        "averages_cosine_sim = pd.DataFrame([column_averages], index=['Average'])"
      ]
    },
    {
      "cell_type": "code",
      "execution_count": null,
      "metadata": {},
      "outputs": [],
      "source": [
        "columns_type_count = playlist_cosine_sim.dtypes.value_counts()"
      ]
    },
    {
      "cell_type": "code",
      "execution_count": null,
      "metadata": {},
      "outputs": [],
      "source": [
        "columns_type_count_1 = feat_vec_cosine_sim.dtypes.value_counts()"
      ]
    },
    {
      "cell_type": "code",
      "execution_count": null,
      "metadata": {},
      "outputs": [],
      "source": [
        "#generate similarity scores!\n",
        "similarity_scores = cosine_similarity(feat_vec_cosine_sim, averages_cosine_sim)\n",
        " \n",
        "feat_vec['similarity_score'] = similarity_scores\n",
        " \n",
        "#sort df from highest to lowest by similarity score and to show songs with highest similarity scores\n",
        "top_similarities = feat_vec.sort_values(by='similarity_score', ascending=False)\n",
        "\n",
        "#remove rows in recommendations from top_similarities where IDs match with playlist IDs, this makes sure that no recommendation is already in the user's playlist\n",
        "top_similarities = top_similarities[~top_similarities['track_id'].isin(playlist['uri'])]\n",
        "\n",
        "\n",
        "# get song recs from top 3 genres\n",
        "first_genre = top_similarities.loc[top_similarities['genre_'+top_3_genres[0]] == 1].head(45)\n",
        "second_genre = top_similarities.loc[top_similarities['genre_'+top_3_genres[1]] == 1].head(30)\n",
        "third_genre = top_similarities.loc[top_similarities['genre_'+top_3_genres[2]] == 1].head(15)\n",
        "\n",
        "top_similarities = pd.concat([first_genre, second_genre, third_genre], ignore_index=True)\n"
      ]
    },
    {
      "cell_type": "code",
      "execution_count": null,
      "metadata": {},
      "outputs": [],
      "source": [
        "# find the track name, artist, and 30s audio preview or each song using the track_id\n",
        "top_similarities['track'] = [None]*len(top_similarities)\n",
        "top_similarities['artist'] = [None]*len(top_similarities)\n",
        "top_similarities['preview'] = [None]*len(top_similarities)"
      ]
    },
    {
      "cell_type": "code",
      "execution_count": null,
      "metadata": {},
      "outputs": [],
      "source": [
        "# get track name, artist, and 30s audio clip url\n",
        "for i in range(len(top_similarities)):\n",
        "    track_info = sp.track(top_similarities.iloc[i,87])\n",
        "    track_name = track_info['name']\n",
        "    artist_name = track_info['artists'][0]['name']\n",
        "    preview_url = track_info['preview_url']\n",
        "    \n",
        "    top_similarities.iloc[i, 90] = track_name\n",
        "    top_similarities.iloc[i, 91] = artist_name\n",
        "    top_similarities.iloc[i, 92] = preview_url"
      ]
    },
    {
      "cell_type": "code",
      "execution_count": null,
      "metadata": {},
      "outputs": [],
      "source": [
        "# Get genres of each track in playlist\n",
        "artist_names = top_similarities['artist'].tolist()\n",
        "    \n",
        "# Create an empty list to store genres\n",
        "genres = []\n",
        "\n",
        "# Fill genre for each song using Parallelization\n",
        "genres = Parallel(n_jobs=1)(delayed(process_artist)(artist_name, sp) for artist_name in artist_names)\n",
        "\n",
        "# Add genres to the dataframe\n",
        "top_similarities['genre'] = genres\n",
        "\n",
        "# if songs in recs have any ethnic songs\n",
        "ethnic_genres = ['colombia', 'latin', 'mexican', 'puerto rican', 'dominican', 'italian', 'spanish', 'brasil', 'argentine', 'anime', 'japanese', 'indonesian', 'vietnamese', 'korean', 'chinese', 'taiwan', 'spanish']\n",
        "    \n",
        "# remove any songs that have ethnic genres includeds\n",
        "mask = top_similarities['genre'].str.contains('|'.join(ethnic_genres), case=False)\n",
        "top_similarities.drop(top_similarities[mask].index, inplace=True)\n",
        "    \n",
        "\n",
        "# 15 songs from 1st genre, 10 songs from 2nd genre, 5 songs from 3rd genre\n",
        "first_genre = top_similarities.loc[top_similarities['genre_'+top_3_genres[0]] == 1].head(15)\n",
        "second_genre = top_similarities.loc[top_similarities['genre_'+top_3_genres[1]] == 1].head(10)\n",
        "third_genre = top_similarities.loc[top_similarities['genre_'+top_3_genres[2]] == 1].head(5)\n",
        "top_similarities = pd.concat([first_genre, second_genre, third_genre], ignore_index=True)"
      ]
    },
    {
      "cell_type": "code",
      "execution_count": null,
      "metadata": {},
      "outputs": [],
      "source": [
        "#show only specific columns useful to the user \n",
        "display_features = ['track', 'artist', 'similarity_score', 'genre', 'preview']\n",
        "\n",
        "playlist_recs = top_similarities[display_features]\n",
        "\n",
        "playlist_recs['similarity_score'] = (playlist_recs['similarity_score']*100).round(2)\n",
        "\n",
        "playlist_recs"
      ]
    }
  ],
  "metadata": {
    "colab": {
      "provenance": []
    },
    "kernelspec": {
      "display_name": "Python 3",
      "language": "python",
      "name": "python3"
    },
    "language_info": {
      "codemirror_mode": {
        "name": "ipython",
        "version": 3
      },
      "file_extension": ".py",
      "mimetype": "text/x-python",
      "name": "python",
      "nbconvert_exporter": "python",
      "pygments_lexer": "ipython3",
      "version": "3.11.0"
    }
  },
  "nbformat": 4,
  "nbformat_minor": 0
}
